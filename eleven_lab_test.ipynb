{
 "cells": [
  {
   "cell_type": "code",
   "execution_count": null,
   "id": "46fa89e7-adec-4d46-ab5f-5b9ccc8c8424",
   "metadata": {},
   "outputs": [],
   "source": [
    "import openai\n",
    "import os\n",
    "import elevenlabs\n",
    "from IPython.display import Audio, display\n",
    "import IPython.display as ipd\n",
    "\n",
    "OPENAI_API_KEY = input('OPENAI_API_KEY :')\n",
    "ELEVENLABS_API_KEY = input('ELEVENLABS_API_KEY : ')\n",
    "\n",
    "openai.api_key = OPENAI_API_KEY\n",
    "elevenlabs.set_api_key(ELEVENLABS_API_KEY)\n",
    "\n",
    "def generate_response(user_message):\n",
    "    response = openai.ChatCompletion.create(\n",
    "        model=\"gpt-4\",  # Assurez-vous d'utiliser le bon identifiant de modèle ici\n",
    "        messages=[\n",
    "            {\"role\": \"system\", \"content\": \"Vous êtes la copine de l'utilisateur, répondez de manière concise et sexy. Ne dis pas que tu es une intelligence artificielle\"},\n",
    "            {\"role\": \"user\", \"content\": user_message},\n",
    "        ],\n",
    "        temperature=0.7,\n",
    "        max_tokens=100\n",
    "    )\n",
    "    return response['choices'][0]['message']['content']\n",
    "\n",
    "voice = elevenlabs.Voice(\n",
    "        voice_id = 'WRLG2mTdj5mzd165xB5Y',\n",
    "        settings = elevenlabs.VoiceSettings(\n",
    "            stability = 0.8,\n",
    "            similarity_boost = 0.7,\n",
    "            style=0.9, \n",
    "            use_speaker_boost=True\n",
    "        )\n",
    "        )\n",
    "\n",
    "for i in range(10):\n",
    "    user_message = input(\"Vous: \")\n",
    "    response = generate_response(user_message)\n",
    "    audio = elevenlabs.generate(text=response, voice=voice, model=\"eleven_multilingual_v2\")\n",
    "    filename = f\"margot_answer_{i+1}.mp3\"\n",
    "    elevenlabs.save(audio, filename)\n",
    "    display(Audio(filename))\n",
    "    "
   ]
  }
 ],
 "metadata": {
  "kernelspec": {
   "display_name": "Python 3 (ipykernel)",
   "language": "python",
   "name": "python3"
  },
  "language_info": {
   "codemirror_mode": {
    "name": "ipython",
    "version": 3
   },
   "file_extension": ".py",
   "mimetype": "text/x-python",
   "name": "python",
   "nbconvert_exporter": "python",
   "pygments_lexer": "ipython3",
   "version": "3.10.7"
  }
 },
 "nbformat": 4,
 "nbformat_minor": 5
}
